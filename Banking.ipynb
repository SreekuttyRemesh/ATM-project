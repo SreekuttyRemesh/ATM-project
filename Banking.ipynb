{
 "cells": [
  {
   "cell_type": "code",
   "execution_count": 2,
   "id": "dc7f46bf-d5a1-4b87-b7f9-b719fcffb8dc",
   "metadata": {},
   "outputs": [
    {
     "name": "stdout",
     "output_type": "stream",
     "text": [
      "WELCOME TO YES BANK\n",
      ".................................\n"
     ]
    },
    {
     "name": "stdin",
     "output_type": "stream",
     "text": [
      "Please enter your Account number : 100001\n"
     ]
    },
    {
     "name": "stdout",
     "output_type": "stream",
     "text": [
      "100001\n"
     ]
    },
    {
     "name": "stdin",
     "output_type": "stream",
     "text": [
      "Please enter your password : 1212\n"
     ]
    },
    {
     "name": "stdout",
     "output_type": "stream",
     "text": [
      "1212\n",
      "          'Wel come to YES BANK' \n",
      "            \n",
      "1. Withdrawal                        2. Deposit\n",
      "\n",
      "        3.Balance information                   4.Mini statement\n"
     ]
    },
    {
     "name": "stdin",
     "output_type": "stream",
     "text": [
      "please select your option: 2\n",
      "please enter the deposite amount: 5000\n"
     ]
    },
    {
     "name": "stdout",
     "output_type": "stream",
     "text": [
      "SUCCESSFULLY DEPOSITED,YOUR CURRENT BALANCE IS RUPEES: {105000}\n"
     ]
    }
   ],
   "source": [
    "class BankAccount:\n",
    "    option=('''          \\'Wel come to DBMS BANK\\' \n",
    "        \\n1. Withdrawal                        2. Deposit\\n\n",
    "    3.Balance information                   4.Mini statement''')\n",
    "    def login(self,password,account_number,balance=0):\n",
    "        self.balance=balance\n",
    "        self.password=password\n",
    "        self.account_number=account_number\n",
    "    def deposite(self,amount):\n",
    "        self.balance += amount\n",
    "        print('SUCCESSFULLY DEPOSITED,YOUR CURRENT BALANCE IS RUPEES:',{self.balance})\n",
    "    def withdrew(self,amount):\n",
    "        self.balance-=amount\n",
    "        print('WITHDREW IS SUCCESSFUL ,YOUR CURRENT BALANCE IS RUPEES:', {self.balance})\n",
    "account1=BankAccount()\n",
    "print('WELCOME TO YES BANK')\n",
    "print('.................................')\n",
    "account_num=int(input('Please enter your Account number :'))\n",
    "print(account_num)\n",
    "if account_num==100001:\n",
    "    password=int(input('Please enter your password :'))\n",
    "    print(password)\n",
    "else :\n",
    "      print('INvalid')\n",
    "if  password==1212:\n",
    "    print('''          \\'Wel come to YES BANK\\' \n",
    "            \\n1. Withdrawal                        2. Deposit\\n\n",
    "        3.Balance information                   4.Mini statement''')\n",
    "else:\n",
    "    print('Invalid')\n",
    "account1.login(1212,100001)\n",
    "account1.balance=100000\n",
    "\n",
    "option2=int(input('please select your option:'))\n",
    "if option2 == 1:\n",
    "    withdrew_amount=int(input('please enter the withdrew amount:'))\n",
    "    account1.withdrew(withdrew_amount)\n",
    "elif option2 == 2:\n",
    "   deposite_amount = int(input('please enter the deposite amount:'))\n",
    "   account1.deposite(deposite_amount)\n",
    "elif option2 == 3:\n",
    "    print(account1.balance)\n",
    "elif option2 == 4:\n",
    "    print('''AC NO:100001,\\nbalance on 11/12/2024 rs.100000\\n07/10/2024  cr 13000 (anoop das)\n",
    "        \\n10/10/2024 dr 1500(electricity bill)\n",
    "          \\n10/10/2024 dr 1200(water bill\\n 25/10/2024 dr 10000 (punjab national bank)''')\n"
   ]
  },
  {
   "cell_type": "code",
   "execution_count": null,
   "id": "d89fa0ec-0eeb-4ee1-b45f-f75224a9e68b",
   "metadata": {},
   "outputs": [],
   "source": []
  }
 ],
 "metadata": {
  "kernelspec": {
   "display_name": "Python 3 (ipykernel)",
   "language": "python",
   "name": "python3"
  },
  "language_info": {
   "codemirror_mode": {
    "name": "ipython",
    "version": 3
   },
   "file_extension": ".py",
   "mimetype": "text/x-python",
   "name": "python",
   "nbconvert_exporter": "python",
   "pygments_lexer": "ipython3",
   "version": "3.11.1"
  }
 },
 "nbformat": 4,
 "nbformat_minor": 5
}
